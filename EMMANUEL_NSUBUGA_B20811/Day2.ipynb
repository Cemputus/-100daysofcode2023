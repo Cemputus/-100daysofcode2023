{
  "cells": [
    {
      "cell_type": "markdown",
      "source": [
        "Each expression showcases a unique combination of mathematical operations and demonstrates how these operations can be used to compute a final result."
      ],
      "metadata": {
        "id": "9j_gMTbqwPr5"
      }
    },
    {
      "cell_type": "code",
      "execution_count": 12,
      "metadata": {
        "colab": {
          "base_uri": "https://localhost:8080/"
        },
        "id": "jDJ7x230uvC7",
        "outputId": "8f3bd952-bdb8-4a92-b0b3-ee3f381e700f"
      },
      "outputs": [
        {
          "output_type": "stream",
          "name": "stdout",
          "text": [
            "79.5\n"
          ]
        }
      ],
      "source": [
        "Answer1 = (7 * 4) - (15 / 3) + \\\n",
        "         ((12 % 5) ** 2) / \\\n",
        "         ((9 // 2) + (5 - 1)) + 56\n",
        "print(Answer1)\n"
      ]
    },
    {
      "cell_type": "code",
      "execution_count": 11,
      "metadata": {
        "colab": {
          "base_uri": "https://localhost:8080/"
        },
        "id": "EdfDSZgjuvDF",
        "outputId": "2ac5bdc2-7337-40bd-a878-dfe924120894"
      },
      "outputs": [
        {
          "output_type": "stream",
          "name": "stdout",
          "text": [
            "3.2903225806451615\n"
          ]
        }
      ],
      "source": [
        "Answer2 = ((5 + 3) * 2 - 7) / \\\n",
        "         ((4 * 6) + (9 - 2)) + \\\n",
        "         (12 / 4)\n",
        "print(Answer2)\n"
      ]
    },
    {
      "cell_type": "code",
      "execution_count": 10,
      "metadata": {
        "colab": {
          "base_uri": "https://localhost:8080/"
        },
        "id": "kFqACH7-uvDH",
        "outputId": "61cb4797-e7ce-48d1-9245-34c4284c57b1"
      },
      "outputs": [
        {
          "output_type": "stream",
          "name": "stdout",
          "text": [
            "82.11111111111111\n"
          ]
        }
      ],
      "source": [
        "Answer3 = (9 ** 2) - (5 * 7) / \\\n",
        "         ((15 % 4) + (3 * 2)) + \\\n",
        "         (10 // 2)\n",
        "print(Answer3)\n"
      ]
    },
    {
      "cell_type": "code",
      "execution_count": 9,
      "metadata": {
        "colab": {
          "base_uri": "https://localhost:8080/"
        },
        "id": "E11k412muvDJ",
        "outputId": "5b4a2edc-ef81-4dcf-945b-bb88e7556c96"
      },
      "outputs": [
        {
          "output_type": "stream",
          "name": "stdout",
          "text": [
            "27.5\n"
          ]
        }
      ],
      "source": [
        "Answer4 = ((8 + 2) * 3) - \\\n",
        "         ((5 / 2) + (4 ** 2)) + \\\n",
        "         ((16 // 4) ** 2)\n",
        "print(Answer4)\n"
      ]
    },
    {
      "cell_type": "code",
      "source": [
        "Answer = (2 ** 3) * (7 - 4) + \\\n",
        "         ((15 / 3) + (9 % 2)) - \\\n",
        "         ((10 // 2) + (6 * 2))\n",
        "print(Answer)\n",
        "\n"
      ],
      "metadata": {
        "colab": {
          "base_uri": "https://localhost:8080/"
        },
        "id": "zmPFjfkru2Gl",
        "outputId": "32837cc4-5606-4a15-dfe9-29cbad1aaaf3"
      },
      "execution_count": 8,
      "outputs": [
        {
          "output_type": "stream",
          "name": "stdout",
          "text": [
            "13.0\n"
          ]
        }
      ]
    },
    {
      "cell_type": "code",
      "source": [
        "Answer5 = ((7 ** 2) - 49) * \\\n",
        "         ((8 / 4) + (10 // 5)) + \\\n",
        "         (15 - 2) + 43\n",
        "print(Answer5)\n"
      ],
      "metadata": {
        "colab": {
          "base_uri": "https://localhost:8080/"
        },
        "id": "xErz5tEavmK4",
        "outputId": "0fd96652-aca3-4964-a9ea-4ee4680ca3bc"
      },
      "execution_count": 7,
      "outputs": [
        {
          "output_type": "stream",
          "name": "stdout",
          "text": [
            "56.0\n"
          ]
        }
      ]
    },
    {
      "cell_type": "code",
      "source": [
        "Answer6 = (9 * 6) / \\\n",
        "         ((14 % 3) + (7 + 4)) - \\\n",
        "         ((16 // 2) + 3) - 2\n",
        "print(Answer6)\n"
      ],
      "metadata": {
        "colab": {
          "base_uri": "https://localhost:8080/"
        },
        "id": "Y2VrMSUGvtT2",
        "outputId": "da5baa30-1155-4ff8-a212-7ef01e6ec04c"
      },
      "execution_count": 6,
      "outputs": [
        {
          "output_type": "stream",
          "name": "stdout",
          "text": [
            "-8.846153846153847\n"
          ]
        }
      ]
    },
    {
      "cell_type": "markdown",
      "source": [
        "---\n",
        "Cen_prototype"
      ],
      "metadata": {
        "id": "baI2DsmmwfVZ"
      }
    }
  ],
  "metadata": {
    "kernelspec": {
      "display_name": "Python 3",
      "language": "python",
      "name": "python3"
    },
    "language_info": {
      "codemirror_mode": {
        "name": "ipython",
        "version": 3
      },
      "file_extension": ".py",
      "mimetype": "text/x-python",
      "name": "python",
      "nbconvert_exporter": "python",
      "pygments_lexer": "ipython3",
      "version": "3.11.3"
    },
    "orig_nbformat": 4,
    "colab": {
      "provenance": []
    }
  },
  "nbformat": 4,
  "nbformat_minor": 0
}
